{
 "cells": [
  {
   "cell_type": "code",
   "execution_count": 2,
   "metadata": {},
   "outputs": [
    {
     "name": "stdout",
     "output_type": "stream",
     "text": [
      "일(+3)에 Process ID = 99일(+6)에 Process ID = 100일(+0)에 Process ID = 98\n",
      "\n",
      "\n",
      "일(+7)에 Process ID = 100일(+4)에 Process ID = 99\n",
      "일(+1)에 Process ID = 98\n",
      "\n",
      "일(+8)에 Process ID = 100\n",
      "일(+2)에 Process ID = 98일(+5)에 Process ID = 99\n",
      "\n",
      "일(+9)에 Process ID = 100일(+12)에 Process ID = 99\n",
      "일(+15)에 Process ID = 98\n",
      "\n",
      "일(+10)에 Process ID = 100일(+13)에 Process ID = 99일(+16)에 Process ID = 98\n",
      "\n",
      "\n",
      "일(+11)에 Process ID = 100일(+14)에 Process ID = 99일(+17)에 Process ID = 98\n",
      "\n",
      "\n",
      "일(+18)에 Process ID = 100일(+24)에 Process ID = 98\n",
      "일(+21)에 Process ID = 99\n",
      "\n",
      "일(+19)에 Process ID = 100\n",
      "일(+25)에 Process ID = 98일(+22)에 Process ID = 99\n",
      "\n",
      "일(+20)에 Process ID = 100\n",
      "일(+23)에 Process ID = 99\n",
      "일(+26)에 Process ID = 98\n",
      "일(+27)에 Process ID = 100\n",
      "일(+28)에 Process ID = 100\n",
      "일(+29)에 Process ID = 100\n",
      "[0, 1, 2, 3, 4, 5, 6, 7, 8, 9, 10, 11, 12, 13, 14, 15, 16, 17, 18, 19, 20, 21, 22, 23, 24, 25, 26, 27, 28, 29]\n",
      "작업 시간 = 약 {0}s 12\n"
     ]
    }
   ],
   "source": [
    "from multiprocessing import Pool\n",
    "import time\n",
    "import os\n",
    "\n",
    "def my_func(work):\n",
    "    print(\"일(+{0})에 Process ID = {1}\".format(work,os.getpid()))\n",
    "    time.sleep(1)\n",
    "    return work\n",
    "\n",
    "if __name__ == '__main__':\n",
    "    p = Pool(3)\n",
    "    startTime = int(time.time())\n",
    "    print(p.map(my_func, range(0,30)))\n",
    "    endTime = int(time.time())\n",
    "    print(\"작업 시간 = 약 {0}s\",(endTime - startTime))"
   ]
  },
  {
   "cell_type": "code",
   "execution_count": null,
   "metadata": {},
   "outputs": [],
   "source": []
  }
 ],
 "metadata": {
  "kernelspec": {
   "display_name": "Python 3",
   "language": "python",
   "name": "python3"
  },
  "language_info": {
   "codemirror_mode": {
    "name": "ipython",
    "version": 3
   },
   "file_extension": ".py",
   "mimetype": "text/x-python",
   "name": "python",
   "nbconvert_exporter": "python",
   "pygments_lexer": "ipython3",
   "version": "3.7.8"
  }
 },
 "nbformat": 4,
 "nbformat_minor": 2
}
