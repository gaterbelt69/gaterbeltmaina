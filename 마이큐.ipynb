{
 "cells": [
  {
   "cell_type": "code",
   "execution_count": 1,
   "metadata": {},
   "outputs": [
    {
     "name": "stdout",
     "output_type": "stream",
     "text": [
      "creating data!\n",
      "consumed data is 0.08576711616819543\n",
      "consumed data is 0.6411797441335877\n",
      "consumed data is 0.7414138282752037\n",
      "consumed data is 0.49333796461563395\n",
      "consumed data is 0.30269465456769706\n",
      "consumed data is 0.8795292226963302\n",
      "consumed data is 0.6365818198099416\n",
      "consumed data is 0.7736644718823025\n",
      "consumed data is 0.0013516322353929189\n",
      "consumed data is 0.40828686290276006\n"
     ]
    }
   ],
   "source": [
    "from multiprocessing import Process,Queue\n",
    "import random\n",
    "\n",
    "def data_creator(max_data_number,q):\n",
    "    print(\"creating data!\")\n",
    "    for _ in range(max_data_number):\n",
    "        data = random.random()\n",
    "        q.put(data)\n",
    "    q.put(None)\n",
    "\n",
    "def data_consumer(q):\n",
    "    while True:\n",
    "        data = q.get()\n",
    "        if data is None:\n",
    "            break\n",
    "        print('consumed data is {}'.format(data))\n",
    "\n",
    "if __name__ == '__main__':\n",
    "    q =Queue()\n",
    "    max_data_number = 10\n",
    "    process_creator = Process(target=data_creator,args=(max_data_number,q))\n",
    "    process_consumer = Process(target=data_consumer, args=(q,))\n",
    "    process_creator.start()\n",
    "    process_consumer.start()\n",
    "    q.close()\n",
    "    q.join_thread()\n",
    "    process_creator.join()\n",
    "    process_consumer.join()\n",
    "\n"
   ]
  },
  {
   "cell_type": "code",
   "execution_count": null,
   "metadata": {},
   "outputs": [],
   "source": []
  }
 ],
 "metadata": {
  "kernelspec": {
   "display_name": "Python 3",
   "language": "python",
   "name": "python3"
  },
  "language_info": {
   "codemirror_mode": {
    "name": "ipython",
    "version": 3
   },
   "file_extension": ".py",
   "mimetype": "text/x-python",
   "name": "python",
   "nbconvert_exporter": "python",
   "pygments_lexer": "ipython3",
   "version": "3.7.8"
  }
 },
 "nbformat": 4,
 "nbformat_minor": 2
}
